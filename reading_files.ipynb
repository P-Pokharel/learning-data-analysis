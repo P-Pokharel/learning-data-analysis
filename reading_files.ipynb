{
 "cells": [
  {
   "cell_type": "markdown",
   "id": "8320d23e-22ae-4c12-a5b4-2949ffeae333",
   "metadata": {},
   "source": [
    "# Reading CSV file"
   ]
  },
  {
   "cell_type": "code",
   "execution_count": 1,
   "id": "96c3fd57-ceb4-4f1b-8f6a-5cb14f1b628c",
   "metadata": {},
   "outputs": [],
   "source": [
    "import pandas as pd"
   ]
  },
  {
   "cell_type": "markdown",
   "id": "0afdfad3-44e6-4ba5-bcfa-6995a9fce6da",
   "metadata": {},
   "source": [
    "### Reading Data with Python(file handling)"
   ]
  },
  {
   "cell_type": "code",
   "execution_count": 2,
   "id": "f43de3d6-6bf5-4395-9dfb-e7a2c1b8bb39",
   "metadata": {},
   "outputs": [
    {
     "name": "stdout",
     "output_type": "stream",
     "text": [
      "<_io.TextIOWrapper name='data/btc-market-price.csv' mode='r' encoding='cp1252'>\n"
     ]
    }
   ],
   "source": [
    "with open('data/btc-market-price.csv', 'r') as fp:\n",
    "    print(fp)"
   ]
  },
  {
   "cell_type": "code",
   "execution_count": 5,
   "id": "b30fa7d1-8c96-4c24-95ad-667455b2aeec",
   "metadata": {},
   "outputs": [
    {
     "name": "stdout",
     "output_type": "stream",
     "text": [
      "0 2/4/17 0:00,1099.169125\n",
      "\n",
      "1 3/4/17 0:00,1141.813\n",
      "\n",
      "2 4/4/17 0:00,?\n",
      "\n",
      "3 5/4/17 0:00,1133.079314\n",
      "\n",
      "4 6/4/17 0:00,-\n",
      "\n",
      "5 7/4/17 0:00,-\n",
      "\n",
      "6 8/4/17 0:00,1181.149838\n",
      "\n",
      "7 9/4/17 0:00,1208.8005\n",
      "\n",
      "8 10/4/17 0:00,1207.744875\n",
      "\n",
      "9 11/4/17 0:00,1226.617038\n",
      "\n"
     ]
    }
   ],
   "source": [
    "with open('data/btc-market-price.csv', 'r') as fp:\n",
    "    for index, line in enumerate(fp.readlines()):\n",
    "        if index < 10:\n",
    "            print(index, line)"
   ]
  },
  {
   "cell_type": "code",
   "execution_count": 6,
   "id": "a5badfa5-275e-4274-9052-3193bdabdc5c",
   "metadata": {},
   "outputs": [
    {
     "name": "stdout",
     "output_type": "stream",
     "text": [
      "2/4/17 0:00: 1099.169125\n",
      "\n",
      "3/4/17 0:00: 1141.813\n",
      "\n",
      "4/4/17 0:00: ?\n",
      "\n",
      "5/4/17 0:00: 1133.079314\n",
      "\n",
      "6/4/17 0:00: -\n",
      "\n",
      "7/4/17 0:00: -\n",
      "\n",
      "8/4/17 0:00: 1181.149838\n",
      "\n",
      "9/4/17 0:00: 1208.8005\n",
      "\n",
      "10/4/17 0:00: 1207.744875\n",
      "\n",
      "11/4/17 0:00: 1226.617038\n",
      "\n"
     ]
    }
   ],
   "source": [
    "with open('data/btc-market-price.csv', 'r') as fp:\n",
    "    for index, line in enumerate(fp.readlines()):\n",
    "        if index < 10:\n",
    "            timestamp, price = line.split(',')\n",
    "            print(f\"{timestamp}: {price}\")"
   ]
  },
  {
   "cell_type": "markdown",
   "id": "93395315-6a53-4c03-8689-011930da9950",
   "metadata": {},
   "source": [
    "![purple-divider](https://user-images.githubusercontent.com/7065401/52071927-c1cd7100-2562-11e9-908a-dde91ba14e59.png)\n",
    "\n",
    "# Using CSV module"
   ]
  },
  {
   "cell_type": "code",
   "execution_count": 7,
   "id": "a02e87c7-f6d6-4ca0-9106-251180cfe4f4",
   "metadata": {},
   "outputs": [],
   "source": [
    "import csv"
   ]
  },
  {
   "cell_type": "code",
   "execution_count": 10,
   "id": "6fa4049f-4f6f-4013-b449-029c8db996e0",
   "metadata": {},
   "outputs": [
    {
     "name": "stdout",
     "output_type": "stream",
     "text": [
      "Ray Morley, who is 18 years old, scored 68,000 in Mathematics and 75,000 in French.\n",
      "Melvin Scott, who is 24 years old, scored 77 in Mathematics and 83 in French.\n",
      "Amirah Haley, who is 22 years old, scored 92 in Mathematics and 67 in French.\n",
      "Gerard Mills, who is 19 years old, scored 78,000 in Mathematics and 72 in French.\n",
      "Amy Grimes, who is 23 years old, scored 91 in Mathematics and 81 in French.\n"
     ]
    }
   ],
   "source": [
    "with open('data/exam_review.csv', 'r') as fp:\n",
    "    reader = csv.reader(fp, delimiter='>')\n",
    "    next(reader)\n",
    "    for index, values in enumerate(reader):\n",
    "        if not values:\n",
    "            continue\n",
    "        fname, lname, age, math, french = values\n",
    "        print(f\"{fname} {lname}, who is {age} years old, scored {math} in Mathematics and {french} in French.\")"
   ]
  }
 ],
 "metadata": {
  "kernelspec": {
   "display_name": "Python 3 (ipykernel)",
   "language": "python",
   "name": "python3"
  },
  "language_info": {
   "codemirror_mode": {
    "name": "ipython",
    "version": 3
   },
   "file_extension": ".py",
   "mimetype": "text/x-python",
   "name": "python",
   "nbconvert_exporter": "python",
   "pygments_lexer": "ipython3",
   "version": "3.11.4"
  }
 },
 "nbformat": 4,
 "nbformat_minor": 5
}
