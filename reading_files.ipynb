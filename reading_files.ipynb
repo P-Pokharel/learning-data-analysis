{
 "cells": [
  {
   "cell_type": "markdown",
   "id": "8320d23e-22ae-4c12-a5b4-2949ffeae333",
   "metadata": {},
   "source": [
    "# Reading CSV file"
   ]
  },
  {
   "cell_type": "code",
   "execution_count": 1,
   "id": "96c3fd57-ceb4-4f1b-8f6a-5cb14f1b628c",
   "metadata": {},
   "outputs": [],
   "source": [
    "import pandas as pd"
   ]
  },
  {
   "cell_type": "markdown",
   "id": "0afdfad3-44e6-4ba5-bcfa-6995a9fce6da",
   "metadata": {},
   "source": [
    "### Reading Data with Python(file handling)"
   ]
  },
  {
   "cell_type": "code",
   "execution_count": 2,
   "id": "f43de3d6-6bf5-4395-9dfb-e7a2c1b8bb39",
   "metadata": {},
   "outputs": [
    {
     "name": "stdout",
     "output_type": "stream",
     "text": [
      "<_io.TextIOWrapper name='data/btc-market-price.csv' mode='r' encoding='cp1252'>\n"
     ]
    }
   ],
   "source": [
    "with open('data/btc-market-price.csv', 'r') as fp:\n",
    "    print(fp)"
   ]
  },
  {
   "cell_type": "code",
   "execution_count": 5,
   "id": "b30fa7d1-8c96-4c24-95ad-667455b2aeec",
   "metadata": {},
   "outputs": [
    {
     "name": "stdout",
     "output_type": "stream",
     "text": [
      "0 2/4/17 0:00,1099.169125\n",
      "\n",
      "1 3/4/17 0:00,1141.813\n",
      "\n",
      "2 4/4/17 0:00,?\n",
      "\n",
      "3 5/4/17 0:00,1133.079314\n",
      "\n",
      "4 6/4/17 0:00,-\n",
      "\n",
      "5 7/4/17 0:00,-\n",
      "\n",
      "6 8/4/17 0:00,1181.149838\n",
      "\n",
      "7 9/4/17 0:00,1208.8005\n",
      "\n",
      "8 10/4/17 0:00,1207.744875\n",
      "\n",
      "9 11/4/17 0:00,1226.617038\n",
      "\n"
     ]
    }
   ],
   "source": [
    "with open('data/btc-market-price.csv', 'r') as fp:\n",
    "    for index, line in enumerate(fp.readlines()):\n",
    "        if index < 10:\n",
    "            print(index, line)"
   ]
  },
  {
   "cell_type": "code",
   "execution_count": 6,
   "id": "a5badfa5-275e-4274-9052-3193bdabdc5c",
   "metadata": {},
   "outputs": [
    {
     "name": "stdout",
     "output_type": "stream",
     "text": [
      "2/4/17 0:00: 1099.169125\n",
      "\n",
      "3/4/17 0:00: 1141.813\n",
      "\n",
      "4/4/17 0:00: ?\n",
      "\n",
      "5/4/17 0:00: 1133.079314\n",
      "\n",
      "6/4/17 0:00: -\n",
      "\n",
      "7/4/17 0:00: -\n",
      "\n",
      "8/4/17 0:00: 1181.149838\n",
      "\n",
      "9/4/17 0:00: 1208.8005\n",
      "\n",
      "10/4/17 0:00: 1207.744875\n",
      "\n",
      "11/4/17 0:00: 1226.617038\n",
      "\n"
     ]
    }
   ],
   "source": [
    "with open('data/btc-market-price.csv', 'r') as fp:\n",
    "    for index, line in enumerate(fp.readlines()):\n",
    "        if index < 10:\n",
    "            timestamp, price = line.split(',')\n",
    "            print(f\"{timestamp}: {price}\")"
   ]
  },
  {
   "cell_type": "markdown",
   "id": "93395315-6a53-4c03-8689-011930da9950",
   "metadata": {},
   "source": [
    "![purple-divider](https://user-images.githubusercontent.com/7065401/52071927-c1cd7100-2562-11e9-908a-dde91ba14e59.png)\n",
    "\n",
    "# Using CSV module"
   ]
  },
  {
   "cell_type": "code",
   "execution_count": 7,
   "id": "a02e87c7-f6d6-4ca0-9106-251180cfe4f4",
   "metadata": {},
   "outputs": [],
   "source": [
    "import csv"
   ]
  },
  {
   "cell_type": "code",
   "execution_count": 10,
   "id": "6fa4049f-4f6f-4013-b449-029c8db996e0",
   "metadata": {},
   "outputs": [
    {
     "name": "stdout",
     "output_type": "stream",
     "text": [
      "Ray Morley, who is 18 years old, scored 68,000 in Mathematics and 75,000 in French.\n",
      "Melvin Scott, who is 24 years old, scored 77 in Mathematics and 83 in French.\n",
      "Amirah Haley, who is 22 years old, scored 92 in Mathematics and 67 in French.\n",
      "Gerard Mills, who is 19 years old, scored 78,000 in Mathematics and 72 in French.\n",
      "Amy Grimes, who is 23 years old, scored 91 in Mathematics and 81 in French.\n"
     ]
    }
   ],
   "source": [
    "with open('data/exam_review.csv', 'r') as fp:\n",
    "    reader = csv.reader(fp, delimiter='>')\n",
    "    next(reader)\n",
    "    for index, values in enumerate(reader):\n",
    "        if not values:\n",
    "            continue\n",
    "        fname, lname, age, math, french = values\n",
    "        print(f\"{fname} {lname}, who is {age} years old, scored {math} in Mathematics and {french} in French.\")"
   ]
  },
  {
   "cell_type": "markdown",
   "id": "515c5ebd-11f1-45aa-a555-042738f7b394",
   "metadata": {},
   "source": [
    "![purple-divider](https://user-images.githubusercontent.com/7065401/52071927-c1cd7100-2562-11e9-908a-dde91ba14e59.png)\n",
    "\n",
    "# Using pandas to read CSV file from a URL"
   ]
  },
  {
   "cell_type": "code",
   "execution_count": 16,
   "id": "7f45427e-8e26-494b-b7e0-52cd3758523d",
   "metadata": {},
   "outputs": [
    {
     "data": {
      "text/html": [
       "<div>\n",
       "<style scoped>\n",
       "    .dataframe tbody tr th:only-of-type {\n",
       "        vertical-align: middle;\n",
       "    }\n",
       "\n",
       "    .dataframe tbody tr th {\n",
       "        vertical-align: top;\n",
       "    }\n",
       "\n",
       "    .dataframe thead th {\n",
       "        text-align: right;\n",
       "    }\n",
       "</style>\n",
       "<table border=\"1\" class=\"dataframe\">\n",
       "  <thead>\n",
       "    <tr style=\"text-align: right;\">\n",
       "      <th></th>\n",
       "      <th>Country Name</th>\n",
       "      <th>Country Code</th>\n",
       "      <th>Year</th>\n",
       "      <th>Value</th>\n",
       "    </tr>\n",
       "  </thead>\n",
       "  <tbody>\n",
       "    <tr>\n",
       "      <th>0</th>\n",
       "      <td>Arab World</td>\n",
       "      <td>ARB</td>\n",
       "      <td>1968</td>\n",
       "      <td>2.576068e+10</td>\n",
       "    </tr>\n",
       "    <tr>\n",
       "      <th>1</th>\n",
       "      <td>Arab World</td>\n",
       "      <td>ARB</td>\n",
       "      <td>1969</td>\n",
       "      <td>2.843420e+10</td>\n",
       "    </tr>\n",
       "    <tr>\n",
       "      <th>2</th>\n",
       "      <td>Arab World</td>\n",
       "      <td>ARB</td>\n",
       "      <td>1970</td>\n",
       "      <td>3.138550e+10</td>\n",
       "    </tr>\n",
       "    <tr>\n",
       "      <th>3</th>\n",
       "      <td>Arab World</td>\n",
       "      <td>ARB</td>\n",
       "      <td>1971</td>\n",
       "      <td>3.642691e+10</td>\n",
       "    </tr>\n",
       "    <tr>\n",
       "      <th>4</th>\n",
       "      <td>Arab World</td>\n",
       "      <td>ARB</td>\n",
       "      <td>1972</td>\n",
       "      <td>4.331606e+10</td>\n",
       "    </tr>\n",
       "  </tbody>\n",
       "</table>\n",
       "</div>"
      ],
      "text/plain": [
       "  Country Name Country Code  Year         Value\n",
       "0   Arab World          ARB  1968  2.576068e+10\n",
       "1   Arab World          ARB  1969  2.843420e+10\n",
       "2   Arab World          ARB  1970  3.138550e+10\n",
       "3   Arab World          ARB  1971  3.642691e+10\n",
       "4   Arab World          ARB  1972  4.331606e+10"
      ]
     },
     "execution_count": 16,
     "metadata": {},
     "output_type": "execute_result"
    }
   ],
   "source": [
    "csv_url = \"https://raw.githubusercontent.com/datasets/gdp/master/data/gdp.csv\"\n",
    "pd.read_csv(csv_url).head()"
   ]
  },
  {
   "cell_type": "code",
   "execution_count": 14,
   "id": "7be6b71d-eb6b-4be3-9f9d-3d78203f0615",
   "metadata": {},
   "outputs": [],
   "source": [
    "csv_url = \"https://raw.githubusercontent.com/datasets/gdp/master/data/gdp.csv\"\n",
    "data_from_url = pd.read_csv(csv_url)"
   ]
  },
  {
   "cell_type": "markdown",
   "id": "3c20e1d2-286e-4f98-95a4-ab5b96d96fbf",
   "metadata": {},
   "source": [
    "### Saving the CSV"
   ]
  },
  {
   "cell_type": "code",
   "execution_count": 15,
   "id": "8bd6ca70-4d51-4254-a277-a0b233fc92cb",
   "metadata": {},
   "outputs": [],
   "source": [
    "data_from_url.to_csv('data/data_from_url.csv')"
   ]
  }
 ],
 "metadata": {
  "kernelspec": {
   "display_name": "Python 3 (ipykernel)",
   "language": "python",
   "name": "python3"
  },
  "language_info": {
   "codemirror_mode": {
    "name": "ipython",
    "version": 3
   },
   "file_extension": ".py",
   "mimetype": "text/x-python",
   "name": "python",
   "nbconvert_exporter": "python",
   "pygments_lexer": "ipython3",
   "version": "3.11.4"
  }
 },
 "nbformat": 4,
 "nbformat_minor": 5
}
