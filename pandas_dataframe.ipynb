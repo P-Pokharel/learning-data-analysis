{
 "cells": [
  {
   "cell_type": "markdown",
   "id": "70f4c195-829a-4141-9a16-0f72962ae194",
   "metadata": {},
   "source": [
    "# Pandas Dataframe"
   ]
  },
  {
   "cell_type": "code",
   "execution_count": 2,
   "id": "fd367678-15b3-4685-810d-ce425cb4bc9c",
   "metadata": {},
   "outputs": [],
   "source": [
    "import pandas as pd\n",
    "import numpy as np"
   ]
  },
  {
   "cell_type": "code",
   "execution_count": 3,
   "id": "e6b47797-b783-431f-9ecd-91ca265e700a",
   "metadata": {},
   "outputs": [],
   "source": [
    "df = pd.DataFrame({\n",
    "        'Population': [12.93, 10.45, 18.5, 20.89],\n",
    "        'GDP': [100057500, 108057500, 120057550, 200057500],\n",
    "        'Surface Area': [9044567054, 9044567, 94067054, 904456],\n",
    "        'Continent': ['Asia', 'Austrailia', 'Asia', 'Europe']\n",
    "}, columns = ['Population', 'GDP', 'Surface Area', 'Continent'])"
   ]
  },
  {
   "cell_type": "code",
   "execution_count": 4,
   "id": "1c1ce575-2b90-416a-82d3-1bf451e441c9",
   "metadata": {},
   "outputs": [
    {
     "data": {
      "text/html": [
       "<div>\n",
       "<style scoped>\n",
       "    .dataframe tbody tr th:only-of-type {\n",
       "        vertical-align: middle;\n",
       "    }\n",
       "\n",
       "    .dataframe tbody tr th {\n",
       "        vertical-align: top;\n",
       "    }\n",
       "\n",
       "    .dataframe thead th {\n",
       "        text-align: right;\n",
       "    }\n",
       "</style>\n",
       "<table border=\"1\" class=\"dataframe\">\n",
       "  <thead>\n",
       "    <tr style=\"text-align: right;\">\n",
       "      <th></th>\n",
       "      <th>Population</th>\n",
       "      <th>GDP</th>\n",
       "      <th>Surface Area</th>\n",
       "      <th>Continent</th>\n",
       "    </tr>\n",
       "  </thead>\n",
       "  <tbody>\n",
       "    <tr>\n",
       "      <th>0</th>\n",
       "      <td>12.93</td>\n",
       "      <td>100057500</td>\n",
       "      <td>9044567054</td>\n",
       "      <td>Asia</td>\n",
       "    </tr>\n",
       "    <tr>\n",
       "      <th>1</th>\n",
       "      <td>10.45</td>\n",
       "      <td>108057500</td>\n",
       "      <td>9044567</td>\n",
       "      <td>Austrailia</td>\n",
       "    </tr>\n",
       "    <tr>\n",
       "      <th>2</th>\n",
       "      <td>18.50</td>\n",
       "      <td>120057550</td>\n",
       "      <td>94067054</td>\n",
       "      <td>Asia</td>\n",
       "    </tr>\n",
       "    <tr>\n",
       "      <th>3</th>\n",
       "      <td>20.89</td>\n",
       "      <td>200057500</td>\n",
       "      <td>904456</td>\n",
       "      <td>Europe</td>\n",
       "    </tr>\n",
       "  </tbody>\n",
       "</table>\n",
       "</div>"
      ],
      "text/plain": [
       "   Population        GDP  Surface Area   Continent\n",
       "0       12.93  100057500    9044567054        Asia\n",
       "1       10.45  108057500       9044567  Austrailia\n",
       "2       18.50  120057550      94067054        Asia\n",
       "3       20.89  200057500        904456      Europe"
      ]
     },
     "execution_count": 4,
     "metadata": {},
     "output_type": "execute_result"
    }
   ],
   "source": [
    "df"
   ]
  },
  {
   "cell_type": "code",
   "execution_count": 5,
   "id": "80072ab3-0741-4456-9166-7696e6871f78",
   "metadata": {},
   "outputs": [],
   "source": [
    "df.index = ['Narnia', 'Winterfell', 'High Garden', 'Kings Landing']"
   ]
  },
  {
   "cell_type": "code",
   "execution_count": 6,
   "id": "38bc3527-d535-4edb-9f0e-042110ca8408",
   "metadata": {},
   "outputs": [
    {
     "data": {
      "text/html": [
       "<div>\n",
       "<style scoped>\n",
       "    .dataframe tbody tr th:only-of-type {\n",
       "        vertical-align: middle;\n",
       "    }\n",
       "\n",
       "    .dataframe tbody tr th {\n",
       "        vertical-align: top;\n",
       "    }\n",
       "\n",
       "    .dataframe thead th {\n",
       "        text-align: right;\n",
       "    }\n",
       "</style>\n",
       "<table border=\"1\" class=\"dataframe\">\n",
       "  <thead>\n",
       "    <tr style=\"text-align: right;\">\n",
       "      <th></th>\n",
       "      <th>Population</th>\n",
       "      <th>GDP</th>\n",
       "      <th>Surface Area</th>\n",
       "      <th>Continent</th>\n",
       "    </tr>\n",
       "  </thead>\n",
       "  <tbody>\n",
       "    <tr>\n",
       "      <th>Narnia</th>\n",
       "      <td>12.93</td>\n",
       "      <td>100057500</td>\n",
       "      <td>9044567054</td>\n",
       "      <td>Asia</td>\n",
       "    </tr>\n",
       "    <tr>\n",
       "      <th>Winterfell</th>\n",
       "      <td>10.45</td>\n",
       "      <td>108057500</td>\n",
       "      <td>9044567</td>\n",
       "      <td>Austrailia</td>\n",
       "    </tr>\n",
       "    <tr>\n",
       "      <th>High Garden</th>\n",
       "      <td>18.50</td>\n",
       "      <td>120057550</td>\n",
       "      <td>94067054</td>\n",
       "      <td>Asia</td>\n",
       "    </tr>\n",
       "    <tr>\n",
       "      <th>Kings Landing</th>\n",
       "      <td>20.89</td>\n",
       "      <td>200057500</td>\n",
       "      <td>904456</td>\n",
       "      <td>Europe</td>\n",
       "    </tr>\n",
       "  </tbody>\n",
       "</table>\n",
       "</div>"
      ],
      "text/plain": [
       "               Population        GDP  Surface Area   Continent\n",
       "Narnia              12.93  100057500    9044567054        Asia\n",
       "Winterfell          10.45  108057500       9044567  Austrailia\n",
       "High Garden         18.50  120057550      94067054        Asia\n",
       "Kings Landing       20.89  200057500        904456      Europe"
      ]
     },
     "execution_count": 6,
     "metadata": {},
     "output_type": "execute_result"
    }
   ],
   "source": [
    "df"
   ]
  },
  {
   "cell_type": "code",
   "execution_count": 7,
   "id": "712f9a8c-ab77-488c-bfb4-da72e51e7ba5",
   "metadata": {},
   "outputs": [
    {
     "name": "stdout",
     "output_type": "stream",
     "text": [
      "<class 'pandas.core.frame.DataFrame'>\n",
      "Index: 4 entries, Narnia to Kings Landing\n",
      "Data columns (total 4 columns):\n",
      " #   Column        Non-Null Count  Dtype  \n",
      "---  ------        --------------  -----  \n",
      " 0   Population    4 non-null      float64\n",
      " 1   GDP           4 non-null      int64  \n",
      " 2   Surface Area  4 non-null      int64  \n",
      " 3   Continent     4 non-null      object \n",
      "dtypes: float64(1), int64(2), object(1)\n",
      "memory usage: 160.0+ bytes\n"
     ]
    }
   ],
   "source": [
    "df.info()"
   ]
  },
  {
   "cell_type": "code",
   "execution_count": 8,
   "id": "f5310597-8219-4a51-83aa-f9af80477619",
   "metadata": {},
   "outputs": [
    {
     "data": {
      "text/plain": [
       "16"
      ]
     },
     "execution_count": 8,
     "metadata": {},
     "output_type": "execute_result"
    }
   ],
   "source": [
    "df.size"
   ]
  },
  {
   "cell_type": "code",
   "execution_count": 9,
   "id": "b61a0016-5cc4-4178-bb78-440e6d539eaf",
   "metadata": {},
   "outputs": [
    {
     "data": {
      "text/html": [
       "<div>\n",
       "<style scoped>\n",
       "    .dataframe tbody tr th:only-of-type {\n",
       "        vertical-align: middle;\n",
       "    }\n",
       "\n",
       "    .dataframe tbody tr th {\n",
       "        vertical-align: top;\n",
       "    }\n",
       "\n",
       "    .dataframe thead th {\n",
       "        text-align: right;\n",
       "    }\n",
       "</style>\n",
       "<table border=\"1\" class=\"dataframe\">\n",
       "  <thead>\n",
       "    <tr style=\"text-align: right;\">\n",
       "      <th></th>\n",
       "      <th>Population</th>\n",
       "      <th>GDP</th>\n",
       "      <th>Surface Area</th>\n",
       "    </tr>\n",
       "  </thead>\n",
       "  <tbody>\n",
       "    <tr>\n",
       "      <th>count</th>\n",
       "      <td>4.000000</td>\n",
       "      <td>4.000000e+00</td>\n",
       "      <td>4.000000e+00</td>\n",
       "    </tr>\n",
       "    <tr>\n",
       "      <th>mean</th>\n",
       "      <td>15.692500</td>\n",
       "      <td>1.320575e+08</td>\n",
       "      <td>2.287146e+09</td>\n",
       "    </tr>\n",
       "    <tr>\n",
       "      <th>std</th>\n",
       "      <td>4.830848</td>\n",
       "      <td>4.607240e+07</td>\n",
       "      <td>4.505145e+09</td>\n",
       "    </tr>\n",
       "    <tr>\n",
       "      <th>min</th>\n",
       "      <td>10.450000</td>\n",
       "      <td>1.000575e+08</td>\n",
       "      <td>9.044560e+05</td>\n",
       "    </tr>\n",
       "    <tr>\n",
       "      <th>25%</th>\n",
       "      <td>12.310000</td>\n",
       "      <td>1.060575e+08</td>\n",
       "      <td>7.009539e+06</td>\n",
       "    </tr>\n",
       "    <tr>\n",
       "      <th>50%</th>\n",
       "      <td>15.715000</td>\n",
       "      <td>1.140575e+08</td>\n",
       "      <td>5.155581e+07</td>\n",
       "    </tr>\n",
       "    <tr>\n",
       "      <th>75%</th>\n",
       "      <td>19.097500</td>\n",
       "      <td>1.400575e+08</td>\n",
       "      <td>2.331692e+09</td>\n",
       "    </tr>\n",
       "    <tr>\n",
       "      <th>max</th>\n",
       "      <td>20.890000</td>\n",
       "      <td>2.000575e+08</td>\n",
       "      <td>9.044567e+09</td>\n",
       "    </tr>\n",
       "  </tbody>\n",
       "</table>\n",
       "</div>"
      ],
      "text/plain": [
       "       Population           GDP  Surface Area\n",
       "count    4.000000  4.000000e+00  4.000000e+00\n",
       "mean    15.692500  1.320575e+08  2.287146e+09\n",
       "std      4.830848  4.607240e+07  4.505145e+09\n",
       "min     10.450000  1.000575e+08  9.044560e+05\n",
       "25%     12.310000  1.060575e+08  7.009539e+06\n",
       "50%     15.715000  1.140575e+08  5.155581e+07\n",
       "75%     19.097500  1.400575e+08  2.331692e+09\n",
       "max     20.890000  2.000575e+08  9.044567e+09"
      ]
     },
     "execution_count": 9,
     "metadata": {},
     "output_type": "execute_result"
    }
   ],
   "source": [
    "df.describe()"
   ]
  },
  {
   "cell_type": "code",
   "execution_count": 10,
   "id": "b21be094-a434-4130-9252-4096a0166b9a",
   "metadata": {},
   "outputs": [
    {
     "data": {
      "text/plain": [
       "Index(['Population', 'GDP', 'Surface Area', 'Continent'], dtype='object')"
      ]
     },
     "execution_count": 10,
     "metadata": {},
     "output_type": "execute_result"
    }
   ],
   "source": [
    "df.columns"
   ]
  },
  {
   "cell_type": "code",
   "execution_count": 11,
   "id": "4506e7fc-45eb-4405-94c3-eb94fbc0c6ab",
   "metadata": {},
   "outputs": [
    {
     "data": {
      "text/plain": [
       "Index(['Narnia', 'Winterfell', 'High Garden', 'Kings Landing'], dtype='object')"
      ]
     },
     "execution_count": 11,
     "metadata": {},
     "output_type": "execute_result"
    }
   ],
   "source": [
    "df.index"
   ]
  },
  {
   "cell_type": "code",
   "execution_count": 12,
   "id": "e36c2a91-ddc4-4b9e-befa-6df8dfc29d11",
   "metadata": {},
   "outputs": [
    {
     "data": {
      "text/plain": [
       "(4, 4)"
      ]
     },
     "execution_count": 12,
     "metadata": {},
     "output_type": "execute_result"
    }
   ],
   "source": [
    "df.shape"
   ]
  },
  {
   "cell_type": "code",
   "execution_count": 13,
   "id": "b6f3c2d5-7544-4990-93d1-ad0e0a456b15",
   "metadata": {},
   "outputs": [
    {
     "data": {
      "text/plain": [
       "Population      float64\n",
       "GDP               int64\n",
       "Surface Area      int64\n",
       "Continent        object\n",
       "dtype: object"
      ]
     },
     "execution_count": 13,
     "metadata": {},
     "output_type": "execute_result"
    }
   ],
   "source": [
    "df.dtypes"
   ]
  },
  {
   "cell_type": "code",
   "execution_count": 14,
   "id": "164f8dea-0e4c-4616-89a3-ee932a4046e1",
   "metadata": {},
   "outputs": [
    {
     "data": {
      "text/plain": [
       "int64      2\n",
       "float64    1\n",
       "object     1\n",
       "Name: count, dtype: int64"
      ]
     },
     "execution_count": 14,
     "metadata": {},
     "output_type": "execute_result"
    }
   ],
   "source": [
    "df.dtypes.value_counts()"
   ]
  },
  {
   "cell_type": "code",
   "execution_count": 15,
   "id": "ff24f325-1df3-4321-b3b3-b08ae0368851",
   "metadata": {},
   "outputs": [
    {
     "data": {
      "text/html": [
       "<div>\n",
       "<style scoped>\n",
       "    .dataframe tbody tr th:only-of-type {\n",
       "        vertical-align: middle;\n",
       "    }\n",
       "\n",
       "    .dataframe tbody tr th {\n",
       "        vertical-align: top;\n",
       "    }\n",
       "\n",
       "    .dataframe thead th {\n",
       "        text-align: right;\n",
       "    }\n",
       "</style>\n",
       "<table border=\"1\" class=\"dataframe\">\n",
       "  <thead>\n",
       "    <tr style=\"text-align: right;\">\n",
       "      <th></th>\n",
       "      <th>Population</th>\n",
       "    </tr>\n",
       "  </thead>\n",
       "  <tbody>\n",
       "    <tr>\n",
       "      <th>Narnia</th>\n",
       "      <td>12.93</td>\n",
       "    </tr>\n",
       "    <tr>\n",
       "      <th>Winterfell</th>\n",
       "      <td>10.45</td>\n",
       "    </tr>\n",
       "    <tr>\n",
       "      <th>High Garden</th>\n",
       "      <td>18.50</td>\n",
       "    </tr>\n",
       "    <tr>\n",
       "      <th>Kings Landing</th>\n",
       "      <td>20.89</td>\n",
       "    </tr>\n",
       "  </tbody>\n",
       "</table>\n",
       "</div>"
      ],
      "text/plain": [
       "               Population\n",
       "Narnia              12.93\n",
       "Winterfell          10.45\n",
       "High Garden         18.50\n",
       "Kings Landing       20.89"
      ]
     },
     "execution_count": 15,
     "metadata": {},
     "output_type": "execute_result"
    }
   ],
   "source": [
    "df['Population'].to_frame()"
   ]
  },
  {
   "cell_type": "code",
   "execution_count": 16,
   "id": "ea00a2a6-37f7-4c0b-a4ac-fa431799cc41",
   "metadata": {},
   "outputs": [
    {
     "data": {
      "text/plain": [
       "Population           12.93\n",
       "GDP              100057500\n",
       "Surface Area    9044567054\n",
       "Continent             Asia\n",
       "Name: Narnia, dtype: object"
      ]
     },
     "execution_count": 16,
     "metadata": {},
     "output_type": "execute_result"
    }
   ],
   "source": [
    "df.loc['Narnia']"
   ]
  },
  {
   "cell_type": "markdown",
   "id": "9371b08d-0651-44f7-903b-b8e09ff1cca4",
   "metadata": {},
   "source": [
    "![purple-divider](https://user-images.githubusercontent.com/7065401/52071927-c1cd7100-2562-11e9-908a-dde91ba14e59.png)\n",
    "\n",
    "# Conditional Selection"
   ]
  },
  {
   "cell_type": "code",
   "execution_count": 17,
   "id": "94d4029b-a716-4d56-844c-1c4286efd50a",
   "metadata": {},
   "outputs": [
    {
     "data": {
      "text/html": [
       "<div>\n",
       "<style scoped>\n",
       "    .dataframe tbody tr th:only-of-type {\n",
       "        vertical-align: middle;\n",
       "    }\n",
       "\n",
       "    .dataframe tbody tr th {\n",
       "        vertical-align: top;\n",
       "    }\n",
       "\n",
       "    .dataframe thead th {\n",
       "        text-align: right;\n",
       "    }\n",
       "</style>\n",
       "<table border=\"1\" class=\"dataframe\">\n",
       "  <thead>\n",
       "    <tr style=\"text-align: right;\">\n",
       "      <th></th>\n",
       "      <th>Population</th>\n",
       "      <th>GDP</th>\n",
       "      <th>Surface Area</th>\n",
       "      <th>Continent</th>\n",
       "    </tr>\n",
       "  </thead>\n",
       "  <tbody>\n",
       "    <tr>\n",
       "      <th>Narnia</th>\n",
       "      <td>12.93</td>\n",
       "      <td>100057500</td>\n",
       "      <td>9044567054</td>\n",
       "      <td>Asia</td>\n",
       "    </tr>\n",
       "    <tr>\n",
       "      <th>Winterfell</th>\n",
       "      <td>10.45</td>\n",
       "      <td>108057500</td>\n",
       "      <td>9044567</td>\n",
       "      <td>Austrailia</td>\n",
       "    </tr>\n",
       "    <tr>\n",
       "      <th>High Garden</th>\n",
       "      <td>18.50</td>\n",
       "      <td>120057550</td>\n",
       "      <td>94067054</td>\n",
       "      <td>Asia</td>\n",
       "    </tr>\n",
       "    <tr>\n",
       "      <th>Kings Landing</th>\n",
       "      <td>20.89</td>\n",
       "      <td>200057500</td>\n",
       "      <td>904456</td>\n",
       "      <td>Europe</td>\n",
       "    </tr>\n",
       "  </tbody>\n",
       "</table>\n",
       "</div>"
      ],
      "text/plain": [
       "               Population        GDP  Surface Area   Continent\n",
       "Narnia              12.93  100057500    9044567054        Asia\n",
       "Winterfell          10.45  108057500       9044567  Austrailia\n",
       "High Garden         18.50  120057550      94067054        Asia\n",
       "Kings Landing       20.89  200057500        904456      Europe"
      ]
     },
     "execution_count": 17,
     "metadata": {},
     "output_type": "execute_result"
    }
   ],
   "source": [
    "df"
   ]
  },
  {
   "cell_type": "code",
   "execution_count": 18,
   "id": "ab6191ff-2d24-4332-83cb-0635511c42a4",
   "metadata": {},
   "outputs": [
    {
     "data": {
      "text/plain": [
       "Narnia           False\n",
       "Winterfell       False\n",
       "High Garden       True\n",
       "Kings Landing     True\n",
       "Name: Population, dtype: bool"
      ]
     },
     "execution_count": 18,
     "metadata": {},
     "output_type": "execute_result"
    }
   ],
   "source": [
    "df['Population'] > 15"
   ]
  },
  {
   "cell_type": "code",
   "execution_count": 19,
   "id": "7b2da71b-a63b-4c9a-9519-6c2350ed2f5b",
   "metadata": {},
   "outputs": [
    {
     "data": {
      "text/html": [
       "<div>\n",
       "<style scoped>\n",
       "    .dataframe tbody tr th:only-of-type {\n",
       "        vertical-align: middle;\n",
       "    }\n",
       "\n",
       "    .dataframe tbody tr th {\n",
       "        vertical-align: top;\n",
       "    }\n",
       "\n",
       "    .dataframe thead th {\n",
       "        text-align: right;\n",
       "    }\n",
       "</style>\n",
       "<table border=\"1\" class=\"dataframe\">\n",
       "  <thead>\n",
       "    <tr style=\"text-align: right;\">\n",
       "      <th></th>\n",
       "      <th>Population</th>\n",
       "      <th>GDP</th>\n",
       "      <th>Surface Area</th>\n",
       "      <th>Continent</th>\n",
       "    </tr>\n",
       "  </thead>\n",
       "  <tbody>\n",
       "    <tr>\n",
       "      <th>High Garden</th>\n",
       "      <td>18.50</td>\n",
       "      <td>120057550</td>\n",
       "      <td>94067054</td>\n",
       "      <td>Asia</td>\n",
       "    </tr>\n",
       "    <tr>\n",
       "      <th>Kings Landing</th>\n",
       "      <td>20.89</td>\n",
       "      <td>200057500</td>\n",
       "      <td>904456</td>\n",
       "      <td>Europe</td>\n",
       "    </tr>\n",
       "  </tbody>\n",
       "</table>\n",
       "</div>"
      ],
      "text/plain": [
       "               Population        GDP  Surface Area Continent\n",
       "High Garden         18.50  120057550      94067054      Asia\n",
       "Kings Landing       20.89  200057500        904456    Europe"
      ]
     },
     "execution_count": 19,
     "metadata": {},
     "output_type": "execute_result"
    }
   ],
   "source": [
    "df.loc[df['Population'] > 15]"
   ]
  },
  {
   "cell_type": "code",
   "execution_count": 20,
   "id": "06184aaf-f7a0-4724-823f-3914b1ef1748",
   "metadata": {},
   "outputs": [
    {
     "data": {
      "text/plain": [
       "High Garden        Asia\n",
       "Kings Landing    Europe\n",
       "Name: Continent, dtype: object"
      ]
     },
     "execution_count": 20,
     "metadata": {},
     "output_type": "execute_result"
    }
   ],
   "source": [
    "df.loc[df['Population'] > 15, 'Continent']"
   ]
  },
  {
   "cell_type": "code",
   "execution_count": 21,
   "id": "8d1415c2-d59d-4bbf-9f30-9237db8a90a6",
   "metadata": {},
   "outputs": [
    {
     "data": {
      "text/html": [
       "<div>\n",
       "<style scoped>\n",
       "    .dataframe tbody tr th:only-of-type {\n",
       "        vertical-align: middle;\n",
       "    }\n",
       "\n",
       "    .dataframe tbody tr th {\n",
       "        vertical-align: top;\n",
       "    }\n",
       "\n",
       "    .dataframe thead th {\n",
       "        text-align: right;\n",
       "    }\n",
       "</style>\n",
       "<table border=\"1\" class=\"dataframe\">\n",
       "  <thead>\n",
       "    <tr style=\"text-align: right;\">\n",
       "      <th></th>\n",
       "      <th>Population</th>\n",
       "      <th>Continent</th>\n",
       "    </tr>\n",
       "  </thead>\n",
       "  <tbody>\n",
       "    <tr>\n",
       "      <th>High Garden</th>\n",
       "      <td>18.50</td>\n",
       "      <td>Asia</td>\n",
       "    </tr>\n",
       "    <tr>\n",
       "      <th>Kings Landing</th>\n",
       "      <td>20.89</td>\n",
       "      <td>Europe</td>\n",
       "    </tr>\n",
       "  </tbody>\n",
       "</table>\n",
       "</div>"
      ],
      "text/plain": [
       "               Population Continent\n",
       "High Garden         18.50      Asia\n",
       "Kings Landing       20.89    Europe"
      ]
     },
     "execution_count": 21,
     "metadata": {},
     "output_type": "execute_result"
    }
   ],
   "source": [
    "df.loc[df['Population'] > 15, ['Population', 'Continent']]"
   ]
  },
  {
   "cell_type": "code",
   "execution_count": 22,
   "id": "f9447c67-b911-4300-8a4a-3701686d580b",
   "metadata": {},
   "outputs": [
    {
     "data": {
      "text/html": [
       "<div>\n",
       "<style scoped>\n",
       "    .dataframe tbody tr th:only-of-type {\n",
       "        vertical-align: middle;\n",
       "    }\n",
       "\n",
       "    .dataframe tbody tr th {\n",
       "        vertical-align: top;\n",
       "    }\n",
       "\n",
       "    .dataframe thead th {\n",
       "        text-align: right;\n",
       "    }\n",
       "</style>\n",
       "<table border=\"1\" class=\"dataframe\">\n",
       "  <thead>\n",
       "    <tr style=\"text-align: right;\">\n",
       "      <th></th>\n",
       "      <th>Population</th>\n",
       "      <th>GDP</th>\n",
       "      <th>Surface Area</th>\n",
       "    </tr>\n",
       "  </thead>\n",
       "  <tbody>\n",
       "    <tr>\n",
       "      <th>Narnia</th>\n",
       "      <td>12.93</td>\n",
       "      <td>100057500</td>\n",
       "      <td>9044567054</td>\n",
       "    </tr>\n",
       "    <tr>\n",
       "      <th>Winterfell</th>\n",
       "      <td>10.45</td>\n",
       "      <td>108057500</td>\n",
       "      <td>9044567</td>\n",
       "    </tr>\n",
       "    <tr>\n",
       "      <th>High Garden</th>\n",
       "      <td>18.50</td>\n",
       "      <td>120057550</td>\n",
       "      <td>94067054</td>\n",
       "    </tr>\n",
       "    <tr>\n",
       "      <th>Kings Landing</th>\n",
       "      <td>20.89</td>\n",
       "      <td>200057500</td>\n",
       "      <td>904456</td>\n",
       "    </tr>\n",
       "  </tbody>\n",
       "</table>\n",
       "</div>"
      ],
      "text/plain": [
       "               Population        GDP  Surface Area\n",
       "Narnia              12.93  100057500    9044567054\n",
       "Winterfell          10.45  108057500       9044567\n",
       "High Garden         18.50  120057550      94067054\n",
       "Kings Landing       20.89  200057500        904456"
      ]
     },
     "execution_count": 22,
     "metadata": {},
     "output_type": "execute_result"
    }
   ],
   "source": [
    "df.drop('Continent', axis='columns')"
   ]
  },
  {
   "cell_type": "code",
   "execution_count": 23,
   "id": "d1aa0f72-75b3-42b2-af7e-5095c3545dbd",
   "metadata": {},
   "outputs": [
    {
     "data": {
      "text/html": [
       "<div>\n",
       "<style scoped>\n",
       "    .dataframe tbody tr th:only-of-type {\n",
       "        vertical-align: middle;\n",
       "    }\n",
       "\n",
       "    .dataframe tbody tr th {\n",
       "        vertical-align: top;\n",
       "    }\n",
       "\n",
       "    .dataframe thead th {\n",
       "        text-align: right;\n",
       "    }\n",
       "</style>\n",
       "<table border=\"1\" class=\"dataframe\">\n",
       "  <thead>\n",
       "    <tr style=\"text-align: right;\">\n",
       "      <th></th>\n",
       "      <th>Population</th>\n",
       "      <th>GDP</th>\n",
       "      <th>Surface Area</th>\n",
       "      <th>Continent</th>\n",
       "    </tr>\n",
       "  </thead>\n",
       "  <tbody>\n",
       "    <tr>\n",
       "      <th>Narnia</th>\n",
       "      <td>12.93</td>\n",
       "      <td>100057500</td>\n",
       "      <td>9044567054</td>\n",
       "      <td>Asia</td>\n",
       "    </tr>\n",
       "    <tr>\n",
       "      <th>Winterfell</th>\n",
       "      <td>10.45</td>\n",
       "      <td>108057500</td>\n",
       "      <td>9044567</td>\n",
       "      <td>Austrailia</td>\n",
       "    </tr>\n",
       "    <tr>\n",
       "      <th>High Garden</th>\n",
       "      <td>18.50</td>\n",
       "      <td>120057550</td>\n",
       "      <td>94067054</td>\n",
       "      <td>Asia</td>\n",
       "    </tr>\n",
       "    <tr>\n",
       "      <th>Kings Landing</th>\n",
       "      <td>20.89</td>\n",
       "      <td>200057500</td>\n",
       "      <td>904456</td>\n",
       "      <td>Europe</td>\n",
       "    </tr>\n",
       "  </tbody>\n",
       "</table>\n",
       "</div>"
      ],
      "text/plain": [
       "               Population        GDP  Surface Area   Continent\n",
       "Narnia              12.93  100057500    9044567054        Asia\n",
       "Winterfell          10.45  108057500       9044567  Austrailia\n",
       "High Garden         18.50  120057550      94067054        Asia\n",
       "Kings Landing       20.89  200057500        904456      Europe"
      ]
     },
     "execution_count": 23,
     "metadata": {},
     "output_type": "execute_result"
    }
   ],
   "source": [
    "df"
   ]
  },
  {
   "cell_type": "markdown",
   "id": "4f4c0d9f-aa5c-4a7c-8ea2-8980188cfca7",
   "metadata": {},
   "source": [
    "![purple-divider](https://user-images.githubusercontent.com/7065401/52071927-c1cd7100-2562-11e9-908a-dde91ba14e59.png)\n",
    "\n",
    "# Modifying Dataframes\n",
    "### Operations between series"
   ]
  },
  {
   "cell_type": "code",
   "execution_count": 24,
   "id": "64e1f5b9-506e-40bc-8b1e-84cca5e6bd91",
   "metadata": {},
   "outputs": [],
   "source": [
    "new_series = pd.Series([-1.5, 1000], index=['Population', 'GDP'])"
   ]
  },
  {
   "cell_type": "code",
   "execution_count": 25,
   "id": "423affd2-d520-4ea6-ac61-0c4646bfeb33",
   "metadata": {},
   "outputs": [
    {
     "data": {
      "text/plain": [
       "Population      -1.5\n",
       "GDP           1000.0\n",
       "dtype: float64"
      ]
     },
     "execution_count": 25,
     "metadata": {},
     "output_type": "execute_result"
    }
   ],
   "source": [
    "new_series"
   ]
  },
  {
   "cell_type": "code",
   "execution_count": 26,
   "id": "8bba1b44-d606-4755-8fb9-d3bd22101a17",
   "metadata": {},
   "outputs": [
    {
     "data": {
      "text/html": [
       "<div>\n",
       "<style scoped>\n",
       "    .dataframe tbody tr th:only-of-type {\n",
       "        vertical-align: middle;\n",
       "    }\n",
       "\n",
       "    .dataframe tbody tr th {\n",
       "        vertical-align: top;\n",
       "    }\n",
       "\n",
       "    .dataframe thead th {\n",
       "        text-align: right;\n",
       "    }\n",
       "</style>\n",
       "<table border=\"1\" class=\"dataframe\">\n",
       "  <thead>\n",
       "    <tr style=\"text-align: right;\">\n",
       "      <th></th>\n",
       "      <th>Population</th>\n",
       "      <th>GDP</th>\n",
       "    </tr>\n",
       "  </thead>\n",
       "  <tbody>\n",
       "    <tr>\n",
       "      <th>Narnia</th>\n",
       "      <td>11.43</td>\n",
       "      <td>100058500.0</td>\n",
       "    </tr>\n",
       "    <tr>\n",
       "      <th>Winterfell</th>\n",
       "      <td>8.95</td>\n",
       "      <td>108058500.0</td>\n",
       "    </tr>\n",
       "    <tr>\n",
       "      <th>High Garden</th>\n",
       "      <td>17.00</td>\n",
       "      <td>120058550.0</td>\n",
       "    </tr>\n",
       "    <tr>\n",
       "      <th>Kings Landing</th>\n",
       "      <td>19.39</td>\n",
       "      <td>200058500.0</td>\n",
       "    </tr>\n",
       "  </tbody>\n",
       "</table>\n",
       "</div>"
      ],
      "text/plain": [
       "               Population          GDP\n",
       "Narnia              11.43  100058500.0\n",
       "Winterfell           8.95  108058500.0\n",
       "High Garden         17.00  120058550.0\n",
       "Kings Landing       19.39  200058500.0"
      ]
     },
     "execution_count": 26,
     "metadata": {},
     "output_type": "execute_result"
    }
   ],
   "source": [
    "df[['Population', 'GDP']] + new_series"
   ]
  },
  {
   "cell_type": "code",
   "execution_count": 27,
   "id": "48111d90-67d2-4635-96c0-6b67d4a422e4",
   "metadata": {
    "scrolled": true
   },
   "outputs": [
    {
     "data": {
      "text/html": [
       "<div>\n",
       "<style scoped>\n",
       "    .dataframe tbody tr th:only-of-type {\n",
       "        vertical-align: middle;\n",
       "    }\n",
       "\n",
       "    .dataframe tbody tr th {\n",
       "        vertical-align: top;\n",
       "    }\n",
       "\n",
       "    .dataframe thead th {\n",
       "        text-align: right;\n",
       "    }\n",
       "</style>\n",
       "<table border=\"1\" class=\"dataframe\">\n",
       "  <thead>\n",
       "    <tr style=\"text-align: right;\">\n",
       "      <th></th>\n",
       "      <th>Population</th>\n",
       "      <th>GDP</th>\n",
       "      <th>Surface Area</th>\n",
       "      <th>Continent</th>\n",
       "    </tr>\n",
       "  </thead>\n",
       "  <tbody>\n",
       "    <tr>\n",
       "      <th>Narnia</th>\n",
       "      <td>12.93</td>\n",
       "      <td>100057500</td>\n",
       "      <td>9044567054</td>\n",
       "      <td>Asia</td>\n",
       "    </tr>\n",
       "    <tr>\n",
       "      <th>Winterfell</th>\n",
       "      <td>10.45</td>\n",
       "      <td>108057500</td>\n",
       "      <td>9044567</td>\n",
       "      <td>Austrailia</td>\n",
       "    </tr>\n",
       "    <tr>\n",
       "      <th>High Garden</th>\n",
       "      <td>18.50</td>\n",
       "      <td>120057550</td>\n",
       "      <td>94067054</td>\n",
       "      <td>Asia</td>\n",
       "    </tr>\n",
       "    <tr>\n",
       "      <th>Kings Landing</th>\n",
       "      <td>20.89</td>\n",
       "      <td>200057500</td>\n",
       "      <td>904456</td>\n",
       "      <td>Europe</td>\n",
       "    </tr>\n",
       "  </tbody>\n",
       "</table>\n",
       "</div>"
      ],
      "text/plain": [
       "               Population        GDP  Surface Area   Continent\n",
       "Narnia              12.93  100057500    9044567054        Asia\n",
       "Winterfell          10.45  108057500       9044567  Austrailia\n",
       "High Garden         18.50  120057550      94067054        Asia\n",
       "Kings Landing       20.89  200057500        904456      Europe"
      ]
     },
     "execution_count": 27,
     "metadata": {},
     "output_type": "execute_result"
    }
   ],
   "source": [
    "df"
   ]
  },
  {
   "cell_type": "code",
   "execution_count": 28,
   "id": "6155861e-4c3f-4e26-9c7e-a3e80dbebb87",
   "metadata": {},
   "outputs": [
    {
     "data": {
      "text/html": [
       "<div>\n",
       "<style scoped>\n",
       "    .dataframe tbody tr th:only-of-type {\n",
       "        vertical-align: middle;\n",
       "    }\n",
       "\n",
       "    .dataframe tbody tr th {\n",
       "        vertical-align: top;\n",
       "    }\n",
       "\n",
       "    .dataframe thead th {\n",
       "        text-align: right;\n",
       "    }\n",
       "</style>\n",
       "<table border=\"1\" class=\"dataframe\">\n",
       "  <thead>\n",
       "    <tr style=\"text-align: right;\">\n",
       "      <th></th>\n",
       "      <th>Population</th>\n",
       "      <th>GDP</th>\n",
       "      <th>Surface Area</th>\n",
       "      <th>Continent</th>\n",
       "    </tr>\n",
       "  </thead>\n",
       "  <tbody>\n",
       "    <tr>\n",
       "      <th>Narnia</th>\n",
       "      <td>11.43</td>\n",
       "      <td>100058500.0</td>\n",
       "      <td>9044567054</td>\n",
       "      <td>Asia</td>\n",
       "    </tr>\n",
       "    <tr>\n",
       "      <th>Winterfell</th>\n",
       "      <td>8.95</td>\n",
       "      <td>108058500.0</td>\n",
       "      <td>9044567</td>\n",
       "      <td>Austrailia</td>\n",
       "    </tr>\n",
       "    <tr>\n",
       "      <th>High Garden</th>\n",
       "      <td>17.00</td>\n",
       "      <td>120058550.0</td>\n",
       "      <td>94067054</td>\n",
       "      <td>Asia</td>\n",
       "    </tr>\n",
       "    <tr>\n",
       "      <th>Kings Landing</th>\n",
       "      <td>19.39</td>\n",
       "      <td>200058500.0</td>\n",
       "      <td>904456</td>\n",
       "      <td>Europe</td>\n",
       "    </tr>\n",
       "  </tbody>\n",
       "</table>\n",
       "</div>"
      ],
      "text/plain": [
       "               Population          GDP  Surface Area   Continent\n",
       "Narnia              11.43  100058500.0    9044567054        Asia\n",
       "Winterfell           8.95  108058500.0       9044567  Austrailia\n",
       "High Garden         17.00  120058550.0      94067054        Asia\n",
       "Kings Landing       19.39  200058500.0        904456      Europe"
      ]
     },
     "execution_count": 28,
     "metadata": {},
     "output_type": "execute_result"
    }
   ],
   "source": [
    "df[['Population', 'GDP']] += new_series\n",
    "df"
   ]
  },
  {
   "cell_type": "markdown",
   "id": "cc270d35-7d6c-4d2c-9966-ad999eb6abd9",
   "metadata": {},
   "source": [
    "![purple-divider](https://user-images.githubusercontent.com/7065401/52071927-c1cd7100-2562-11e9-908a-dde91ba14e59.png)\n",
    "\n",
    "# Adding New Column"
   ]
  },
  {
   "cell_type": "code",
   "execution_count": 29,
   "id": "2b2fb3b5-25a8-4666-93e2-4545c3b732f0",
   "metadata": {},
   "outputs": [],
   "source": [
    "new_lang_colunn = pd.Series(\n",
    "    ['Old Valyrian', 'High Valyrian', 'Dothraki'],\n",
    "    index = ['Narnia', 'Winterfell', 'Kings Landing'],\n",
    "    name = 'Language'\n",
    ")"
   ]
  },
  {
   "cell_type": "code",
   "execution_count": 30,
   "id": "5ef8e977-7fb0-4e36-8916-44d9230c9f0e",
   "metadata": {},
   "outputs": [],
   "source": [
    "df['Language'] = new_lang_colunn"
   ]
  },
  {
   "cell_type": "code",
   "execution_count": 31,
   "id": "4f5213bf-aeae-4f9d-8b03-e9f26d6f766d",
   "metadata": {},
   "outputs": [
    {
     "data": {
      "text/html": [
       "<div>\n",
       "<style scoped>\n",
       "    .dataframe tbody tr th:only-of-type {\n",
       "        vertical-align: middle;\n",
       "    }\n",
       "\n",
       "    .dataframe tbody tr th {\n",
       "        vertical-align: top;\n",
       "    }\n",
       "\n",
       "    .dataframe thead th {\n",
       "        text-align: right;\n",
       "    }\n",
       "</style>\n",
       "<table border=\"1\" class=\"dataframe\">\n",
       "  <thead>\n",
       "    <tr style=\"text-align: right;\">\n",
       "      <th></th>\n",
       "      <th>Population</th>\n",
       "      <th>GDP</th>\n",
       "      <th>Surface Area</th>\n",
       "      <th>Continent</th>\n",
       "      <th>Language</th>\n",
       "    </tr>\n",
       "  </thead>\n",
       "  <tbody>\n",
       "    <tr>\n",
       "      <th>Narnia</th>\n",
       "      <td>11.43</td>\n",
       "      <td>100058500.0</td>\n",
       "      <td>9044567054</td>\n",
       "      <td>Asia</td>\n",
       "      <td>Old Valyrian</td>\n",
       "    </tr>\n",
       "    <tr>\n",
       "      <th>Winterfell</th>\n",
       "      <td>8.95</td>\n",
       "      <td>108058500.0</td>\n",
       "      <td>9044567</td>\n",
       "      <td>Austrailia</td>\n",
       "      <td>High Valyrian</td>\n",
       "    </tr>\n",
       "    <tr>\n",
       "      <th>High Garden</th>\n",
       "      <td>17.00</td>\n",
       "      <td>120058550.0</td>\n",
       "      <td>94067054</td>\n",
       "      <td>Asia</td>\n",
       "      <td>NaN</td>\n",
       "    </tr>\n",
       "    <tr>\n",
       "      <th>Kings Landing</th>\n",
       "      <td>19.39</td>\n",
       "      <td>200058500.0</td>\n",
       "      <td>904456</td>\n",
       "      <td>Europe</td>\n",
       "      <td>Dothraki</td>\n",
       "    </tr>\n",
       "  </tbody>\n",
       "</table>\n",
       "</div>"
      ],
      "text/plain": [
       "               Population          GDP  Surface Area   Continent  \\\n",
       "Narnia              11.43  100058500.0    9044567054        Asia   \n",
       "Winterfell           8.95  108058500.0       9044567  Austrailia   \n",
       "High Garden         17.00  120058550.0      94067054        Asia   \n",
       "Kings Landing       19.39  200058500.0        904456      Europe   \n",
       "\n",
       "                    Language  \n",
       "Narnia          Old Valyrian  \n",
       "Winterfell     High Valyrian  \n",
       "High Garden              NaN  \n",
       "Kings Landing       Dothraki  "
      ]
     },
     "execution_count": 31,
     "metadata": {},
     "output_type": "execute_result"
    }
   ],
   "source": [
    "df"
   ]
  },
  {
   "cell_type": "markdown",
   "id": "5d82eed5-57a3-4101-8d84-5ff5f7d4291b",
   "metadata": {},
   "source": [
    "![purple-divider](https://user-images.githubusercontent.com/7065401/52071927-c1cd7100-2562-11e9-908a-dde91ba14e59.png)\n",
    "\n",
    "### Changing values in the entire column"
   ]
  },
  {
   "cell_type": "code",
   "execution_count": 32,
   "id": "f8772360-116d-4a05-a668-5aed15ee29d8",
   "metadata": {},
   "outputs": [],
   "source": [
    "df['Language'] = 'Espanol'"
   ]
  },
  {
   "cell_type": "code",
   "execution_count": 33,
   "id": "cc4175db-7773-49e1-8e92-7465406b02c7",
   "metadata": {},
   "outputs": [
    {
     "data": {
      "text/html": [
       "<div>\n",
       "<style scoped>\n",
       "    .dataframe tbody tr th:only-of-type {\n",
       "        vertical-align: middle;\n",
       "    }\n",
       "\n",
       "    .dataframe tbody tr th {\n",
       "        vertical-align: top;\n",
       "    }\n",
       "\n",
       "    .dataframe thead th {\n",
       "        text-align: right;\n",
       "    }\n",
       "</style>\n",
       "<table border=\"1\" class=\"dataframe\">\n",
       "  <thead>\n",
       "    <tr style=\"text-align: right;\">\n",
       "      <th></th>\n",
       "      <th>Population</th>\n",
       "      <th>GDP</th>\n",
       "      <th>Surface Area</th>\n",
       "      <th>Continent</th>\n",
       "      <th>Language</th>\n",
       "    </tr>\n",
       "  </thead>\n",
       "  <tbody>\n",
       "    <tr>\n",
       "      <th>Narnia</th>\n",
       "      <td>11.43</td>\n",
       "      <td>100058500.0</td>\n",
       "      <td>9044567054</td>\n",
       "      <td>Asia</td>\n",
       "      <td>Espanol</td>\n",
       "    </tr>\n",
       "    <tr>\n",
       "      <th>Winterfell</th>\n",
       "      <td>8.95</td>\n",
       "      <td>108058500.0</td>\n",
       "      <td>9044567</td>\n",
       "      <td>Austrailia</td>\n",
       "      <td>Espanol</td>\n",
       "    </tr>\n",
       "    <tr>\n",
       "      <th>High Garden</th>\n",
       "      <td>17.00</td>\n",
       "      <td>120058550.0</td>\n",
       "      <td>94067054</td>\n",
       "      <td>Asia</td>\n",
       "      <td>Espanol</td>\n",
       "    </tr>\n",
       "    <tr>\n",
       "      <th>Kings Landing</th>\n",
       "      <td>19.39</td>\n",
       "      <td>200058500.0</td>\n",
       "      <td>904456</td>\n",
       "      <td>Europe</td>\n",
       "      <td>Espanol</td>\n",
       "    </tr>\n",
       "  </tbody>\n",
       "</table>\n",
       "</div>"
      ],
      "text/plain": [
       "               Population          GDP  Surface Area   Continent Language\n",
       "Narnia              11.43  100058500.0    9044567054        Asia  Espanol\n",
       "Winterfell           8.95  108058500.0       9044567  Austrailia  Espanol\n",
       "High Garden         17.00  120058550.0      94067054        Asia  Espanol\n",
       "Kings Landing       19.39  200058500.0        904456      Europe  Espanol"
      ]
     },
     "execution_count": 33,
     "metadata": {},
     "output_type": "execute_result"
    }
   ],
   "source": [
    "df"
   ]
  },
  {
   "cell_type": "markdown",
   "id": "d4572489-198f-4f81-9fdc-bfae6b01380d",
   "metadata": {},
   "source": [
    "![purple-divider](https://user-images.githubusercontent.com/7065401/52071927-c1cd7100-2562-11e9-908a-dde91ba14e59.png)\n",
    "\n",
    "### Renaming column"
   ]
  },
  {
   "cell_type": "code",
   "execution_count": 34,
   "id": "a97a9cbd-c9bc-436c-a070-1f28eb26a48e",
   "metadata": {},
   "outputs": [
    {
     "data": {
      "text/html": [
       "<div>\n",
       "<style scoped>\n",
       "    .dataframe tbody tr th:only-of-type {\n",
       "        vertical-align: middle;\n",
       "    }\n",
       "\n",
       "    .dataframe tbody tr th {\n",
       "        vertical-align: top;\n",
       "    }\n",
       "\n",
       "    .dataframe thead th {\n",
       "        text-align: right;\n",
       "    }\n",
       "</style>\n",
       "<table border=\"1\" class=\"dataframe\">\n",
       "  <thead>\n",
       "    <tr style=\"text-align: right;\">\n",
       "      <th></th>\n",
       "      <th>Population</th>\n",
       "      <th>Gross Domestic Product</th>\n",
       "      <th>Surface Area</th>\n",
       "      <th>Continent</th>\n",
       "      <th>Language</th>\n",
       "    </tr>\n",
       "  </thead>\n",
       "  <tbody>\n",
       "    <tr>\n",
       "      <th>Narnia</th>\n",
       "      <td>11.43</td>\n",
       "      <td>100058500.0</td>\n",
       "      <td>9044567054</td>\n",
       "      <td>Asia</td>\n",
       "      <td>Espanol</td>\n",
       "    </tr>\n",
       "    <tr>\n",
       "      <th>Winterfell</th>\n",
       "      <td>8.95</td>\n",
       "      <td>108058500.0</td>\n",
       "      <td>9044567</td>\n",
       "      <td>Austrailia</td>\n",
       "      <td>Espanol</td>\n",
       "    </tr>\n",
       "    <tr>\n",
       "      <th>HG</th>\n",
       "      <td>17.00</td>\n",
       "      <td>120058550.0</td>\n",
       "      <td>94067054</td>\n",
       "      <td>Asia</td>\n",
       "      <td>Espanol</td>\n",
       "    </tr>\n",
       "    <tr>\n",
       "      <th>KL</th>\n",
       "      <td>19.39</td>\n",
       "      <td>200058500.0</td>\n",
       "      <td>904456</td>\n",
       "      <td>Europe</td>\n",
       "      <td>Espanol</td>\n",
       "    </tr>\n",
       "  </tbody>\n",
       "</table>\n",
       "</div>"
      ],
      "text/plain": [
       "            Population  Gross Domestic Product  Surface Area   Continent  \\\n",
       "Narnia           11.43             100058500.0    9044567054        Asia   \n",
       "Winterfell        8.95             108058500.0       9044567  Austrailia   \n",
       "HG               17.00             120058550.0      94067054        Asia   \n",
       "KL               19.39             200058500.0        904456      Europe   \n",
       "\n",
       "           Language  \n",
       "Narnia      Espanol  \n",
       "Winterfell  Espanol  \n",
       "HG          Espanol  \n",
       "KL          Espanol  "
      ]
     },
     "execution_count": 34,
     "metadata": {},
     "output_type": "execute_result"
    }
   ],
   "source": [
    "df.rename(\n",
    "    columns = {\n",
    "        'GDP': \"Gross Domestic Product\"\n",
    "    },\n",
    "    index = {\n",
    "        'High Garden': 'HG',\n",
    "        'Kings Landing': 'KL'\n",
    "    }\n",
    ")"
   ]
  },
  {
   "cell_type": "markdown",
   "id": "7d55bfb0-e2df-4829-97aa-cd03686fcd3c",
   "metadata": {},
   "source": [
    "![purple-divider](https://user-images.githubusercontent.com/7065401/52071927-c1cd7100-2562-11e9-908a-dde91ba14e59.png)\n",
    "\n",
    "### Creating Columns from calculation between other columns like in Excel"
   ]
  },
  {
   "cell_type": "code",
   "execution_count": 35,
   "id": "dec37728-a806-436a-8531-8f5f6aac74bb",
   "metadata": {},
   "outputs": [
    {
     "data": {
      "text/html": [
       "<div>\n",
       "<style scoped>\n",
       "    .dataframe tbody tr th:only-of-type {\n",
       "        vertical-align: middle;\n",
       "    }\n",
       "\n",
       "    .dataframe tbody tr th {\n",
       "        vertical-align: top;\n",
       "    }\n",
       "\n",
       "    .dataframe thead th {\n",
       "        text-align: right;\n",
       "    }\n",
       "</style>\n",
       "<table border=\"1\" class=\"dataframe\">\n",
       "  <thead>\n",
       "    <tr style=\"text-align: right;\">\n",
       "      <th></th>\n",
       "      <th>Population</th>\n",
       "      <th>GDP</th>\n",
       "      <th>Surface Area</th>\n",
       "      <th>Continent</th>\n",
       "      <th>Language</th>\n",
       "    </tr>\n",
       "  </thead>\n",
       "  <tbody>\n",
       "    <tr>\n",
       "      <th>Narnia</th>\n",
       "      <td>11.43</td>\n",
       "      <td>100058500.0</td>\n",
       "      <td>9044567054</td>\n",
       "      <td>Asia</td>\n",
       "      <td>Espanol</td>\n",
       "    </tr>\n",
       "    <tr>\n",
       "      <th>Winterfell</th>\n",
       "      <td>8.95</td>\n",
       "      <td>108058500.0</td>\n",
       "      <td>9044567</td>\n",
       "      <td>Austrailia</td>\n",
       "      <td>Espanol</td>\n",
       "    </tr>\n",
       "    <tr>\n",
       "      <th>High Garden</th>\n",
       "      <td>17.00</td>\n",
       "      <td>120058550.0</td>\n",
       "      <td>94067054</td>\n",
       "      <td>Asia</td>\n",
       "      <td>Espanol</td>\n",
       "    </tr>\n",
       "    <tr>\n",
       "      <th>Kings Landing</th>\n",
       "      <td>19.39</td>\n",
       "      <td>200058500.0</td>\n",
       "      <td>904456</td>\n",
       "      <td>Europe</td>\n",
       "      <td>Espanol</td>\n",
       "    </tr>\n",
       "  </tbody>\n",
       "</table>\n",
       "</div>"
      ],
      "text/plain": [
       "               Population          GDP  Surface Area   Continent Language\n",
       "Narnia              11.43  100058500.0    9044567054        Asia  Espanol\n",
       "Winterfell           8.95  108058500.0       9044567  Austrailia  Espanol\n",
       "High Garden         17.00  120058550.0      94067054        Asia  Espanol\n",
       "Kings Landing       19.39  200058500.0        904456      Europe  Espanol"
      ]
     },
     "execution_count": 35,
     "metadata": {},
     "output_type": "execute_result"
    }
   ],
   "source": [
    "df"
   ]
  },
  {
   "cell_type": "code",
   "execution_count": 36,
   "id": "daffa134-3453-442a-927a-93e315b8b349",
   "metadata": {},
   "outputs": [
    {
     "data": {
      "text/plain": [
       "Narnia           8.754024e+06\n",
       "Winterfell       1.207358e+07\n",
       "High Garden      7.062268e+06\n",
       "Kings Landing    1.031761e+07\n",
       "dtype: float64"
      ]
     },
     "execution_count": 36,
     "metadata": {},
     "output_type": "execute_result"
    }
   ],
   "source": [
    "df['GDP'] / df['Population']"
   ]
  },
  {
   "cell_type": "code",
   "execution_count": 37,
   "id": "99bdd002-6efb-45ee-881e-63d2a25f8e78",
   "metadata": {},
   "outputs": [],
   "source": [
    "df['GDP per Capita'] = df['GDP'] / df['Population']"
   ]
  },
  {
   "cell_type": "code",
   "execution_count": 38,
   "id": "bb1fc66d-ff85-45d8-a355-1a1de7f193c2",
   "metadata": {},
   "outputs": [
    {
     "data": {
      "text/html": [
       "<div>\n",
       "<style scoped>\n",
       "    .dataframe tbody tr th:only-of-type {\n",
       "        vertical-align: middle;\n",
       "    }\n",
       "\n",
       "    .dataframe tbody tr th {\n",
       "        vertical-align: top;\n",
       "    }\n",
       "\n",
       "    .dataframe thead th {\n",
       "        text-align: right;\n",
       "    }\n",
       "</style>\n",
       "<table border=\"1\" class=\"dataframe\">\n",
       "  <thead>\n",
       "    <tr style=\"text-align: right;\">\n",
       "      <th></th>\n",
       "      <th>Population</th>\n",
       "      <th>GDP</th>\n",
       "      <th>Surface Area</th>\n",
       "      <th>Continent</th>\n",
       "      <th>Language</th>\n",
       "      <th>GDP per Capita</th>\n",
       "    </tr>\n",
       "  </thead>\n",
       "  <tbody>\n",
       "    <tr>\n",
       "      <th>Narnia</th>\n",
       "      <td>11.43</td>\n",
       "      <td>100058500.0</td>\n",
       "      <td>9044567054</td>\n",
       "      <td>Asia</td>\n",
       "      <td>Espanol</td>\n",
       "      <td>8.754024e+06</td>\n",
       "    </tr>\n",
       "    <tr>\n",
       "      <th>Winterfell</th>\n",
       "      <td>8.95</td>\n",
       "      <td>108058500.0</td>\n",
       "      <td>9044567</td>\n",
       "      <td>Austrailia</td>\n",
       "      <td>Espanol</td>\n",
       "      <td>1.207358e+07</td>\n",
       "    </tr>\n",
       "    <tr>\n",
       "      <th>High Garden</th>\n",
       "      <td>17.00</td>\n",
       "      <td>120058550.0</td>\n",
       "      <td>94067054</td>\n",
       "      <td>Asia</td>\n",
       "      <td>Espanol</td>\n",
       "      <td>7.062268e+06</td>\n",
       "    </tr>\n",
       "    <tr>\n",
       "      <th>Kings Landing</th>\n",
       "      <td>19.39</td>\n",
       "      <td>200058500.0</td>\n",
       "      <td>904456</td>\n",
       "      <td>Europe</td>\n",
       "      <td>Espanol</td>\n",
       "      <td>1.031761e+07</td>\n",
       "    </tr>\n",
       "  </tbody>\n",
       "</table>\n",
       "</div>"
      ],
      "text/plain": [
       "               Population          GDP  Surface Area   Continent Language  \\\n",
       "Narnia              11.43  100058500.0    9044567054        Asia  Espanol   \n",
       "Winterfell           8.95  108058500.0       9044567  Austrailia  Espanol   \n",
       "High Garden         17.00  120058550.0      94067054        Asia  Espanol   \n",
       "Kings Landing       19.39  200058500.0        904456      Europe  Espanol   \n",
       "\n",
       "               GDP per Capita  \n",
       "Narnia           8.754024e+06  \n",
       "Winterfell       1.207358e+07  \n",
       "High Garden      7.062268e+06  \n",
       "Kings Landing    1.031761e+07  "
      ]
     },
     "execution_count": 38,
     "metadata": {},
     "output_type": "execute_result"
    }
   ],
   "source": [
    "df"
   ]
  },
  {
   "cell_type": "code",
   "execution_count": 39,
   "id": "ace4e329-48df-453a-8e81-74059f2d37f7",
   "metadata": {},
   "outputs": [
    {
     "data": {
      "text/html": [
       "<div>\n",
       "<style scoped>\n",
       "    .dataframe tbody tr th:only-of-type {\n",
       "        vertical-align: middle;\n",
       "    }\n",
       "\n",
       "    .dataframe tbody tr th {\n",
       "        vertical-align: top;\n",
       "    }\n",
       "\n",
       "    .dataframe thead th {\n",
       "        text-align: right;\n",
       "    }\n",
       "</style>\n",
       "<table border=\"1\" class=\"dataframe\">\n",
       "  <thead>\n",
       "    <tr style=\"text-align: right;\">\n",
       "      <th></th>\n",
       "      <th>Population</th>\n",
       "      <th>GDP</th>\n",
       "      <th>Surface Area</th>\n",
       "      <th>Continent</th>\n",
       "      <th>Language</th>\n",
       "      <th>GDP per Capita</th>\n",
       "    </tr>\n",
       "  </thead>\n",
       "  <tbody>\n",
       "    <tr>\n",
       "      <th>Narnia</th>\n",
       "      <td>11.43</td>\n",
       "      <td>100058500.0</td>\n",
       "      <td>9044567054</td>\n",
       "      <td>Asia</td>\n",
       "      <td>Espanol</td>\n",
       "      <td>8.754024e+06</td>\n",
       "    </tr>\n",
       "    <tr>\n",
       "      <th>Winterfell</th>\n",
       "      <td>8.95</td>\n",
       "      <td>108058500.0</td>\n",
       "      <td>9044567</td>\n",
       "      <td>Austrailia</td>\n",
       "      <td>Espanol</td>\n",
       "      <td>1.207358e+07</td>\n",
       "    </tr>\n",
       "    <tr>\n",
       "      <th>High Garden</th>\n",
       "      <td>17.00</td>\n",
       "      <td>120058550.0</td>\n",
       "      <td>94067054</td>\n",
       "      <td>Asia</td>\n",
       "      <td>Espanol</td>\n",
       "      <td>7.062268e+06</td>\n",
       "    </tr>\n",
       "    <tr>\n",
       "      <th>Kings Landing</th>\n",
       "      <td>19.39</td>\n",
       "      <td>200058500.0</td>\n",
       "      <td>904456</td>\n",
       "      <td>Europe</td>\n",
       "      <td>Espanol</td>\n",
       "      <td>1.031761e+07</td>\n",
       "    </tr>\n",
       "  </tbody>\n",
       "</table>\n",
       "</div>"
      ],
      "text/plain": [
       "               Population          GDP  Surface Area   Continent Language  \\\n",
       "Narnia              11.43  100058500.0    9044567054        Asia  Espanol   \n",
       "Winterfell           8.95  108058500.0       9044567  Austrailia  Espanol   \n",
       "High Garden         17.00  120058550.0      94067054        Asia  Espanol   \n",
       "Kings Landing       19.39  200058500.0        904456      Europe  Espanol   \n",
       "\n",
       "               GDP per Capita  \n",
       "Narnia           8.754024e+06  \n",
       "Winterfell       1.207358e+07  \n",
       "High Garden      7.062268e+06  \n",
       "Kings Landing    1.031761e+07  "
      ]
     },
     "execution_count": 39,
     "metadata": {},
     "output_type": "execute_result"
    }
   ],
   "source": [
    "df.head()"
   ]
  }
 ],
 "metadata": {
  "kernelspec": {
   "display_name": "Python 3 (ipykernel)",
   "language": "python",
   "name": "python3"
  },
  "language_info": {
   "codemirror_mode": {
    "name": "ipython",
    "version": 3
   },
   "file_extension": ".py",
   "mimetype": "text/x-python",
   "name": "python",
   "nbconvert_exporter": "python",
   "pygments_lexer": "ipython3",
   "version": "3.11.4"
  }
 },
 "nbformat": 4,
 "nbformat_minor": 5
}
