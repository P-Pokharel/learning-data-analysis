{
 "cells": [
  {
   "cell_type": "markdown",
   "id": "1de5e47a-baff-4444-9794-25d91d4f076c",
   "metadata": {},
   "source": [
    "# Familiarising with Pandas syntax"
   ]
  },
  {
   "cell_type": "markdown",
   "id": "a4cd1c70-3358-4eab-9ef3-dc49887f46b1",
   "metadata": {},
   "source": [
    "### Pandas Series"
   ]
  },
  {
   "cell_type": "code",
   "execution_count": 27,
   "id": "73491027-1123-460c-ad75-938a7908c049",
   "metadata": {},
   "outputs": [],
   "source": [
    "import pandas as pd\n",
    "import numpy as np"
   ]
  },
  {
   "cell_type": "code",
   "execution_count": 2,
   "id": "2105efa4-b9a6-412c-b3b9-9e4117f493e1",
   "metadata": {},
   "outputs": [],
   "source": [
    "percentage = pd.Series([78.5, 79.2, 76.8, 73.1, 79.5])"
   ]
  },
  {
   "cell_type": "code",
   "execution_count": 3,
   "id": "a0ff8916-1264-4795-b7d1-6f7f178a23c8",
   "metadata": {},
   "outputs": [
    {
     "data": {
      "text/plain": [
       "0    78.5\n",
       "1    79.2\n",
       "2    76.8\n",
       "3    73.1\n",
       "4    79.5\n",
       "dtype: float64"
      ]
     },
     "execution_count": 3,
     "metadata": {},
     "output_type": "execute_result"
    }
   ],
   "source": [
    "percentage"
   ]
  },
  {
   "cell_type": "code",
   "execution_count": 4,
   "id": "c01febba-1973-41c3-af95-5eb4d9fcdc50",
   "metadata": {},
   "outputs": [],
   "source": [
    "percentage.name = 'Percentage in five semesters'"
   ]
  },
  {
   "cell_type": "code",
   "execution_count": 5,
   "id": "e515f049-d22f-45da-9d4e-2af9112a72e9",
   "metadata": {},
   "outputs": [
    {
     "data": {
      "text/plain": [
       "0    78.5\n",
       "1    79.2\n",
       "2    76.8\n",
       "3    73.1\n",
       "4    79.5\n",
       "Name: Percentage in five semesters, dtype: float64"
      ]
     },
     "execution_count": 5,
     "metadata": {},
     "output_type": "execute_result"
    }
   ],
   "source": [
    "percentage"
   ]
  },
  {
   "cell_type": "code",
   "execution_count": 6,
   "id": "2f06aeb5-4e94-4fd3-887e-45c4ecbcd063",
   "metadata": {},
   "outputs": [
    {
     "data": {
      "text/plain": [
       "dtype('float64')"
      ]
     },
     "execution_count": 6,
     "metadata": {},
     "output_type": "execute_result"
    }
   ],
   "source": [
    "percentage.dtype"
   ]
  },
  {
   "cell_type": "code",
   "execution_count": 7,
   "id": "79269cbd-de08-4b13-8087-e1d05fd329a1",
   "metadata": {},
   "outputs": [
    {
     "data": {
      "text/plain": [
       "array([78.5, 79.2, 76.8, 73.1, 79.5])"
      ]
     },
     "execution_count": 7,
     "metadata": {},
     "output_type": "execute_result"
    }
   ],
   "source": [
    "percentage.values"
   ]
  },
  {
   "cell_type": "code",
   "execution_count": 8,
   "id": "a9533c80-aeaa-4441-b1c3-10b8e2328818",
   "metadata": {},
   "outputs": [
    {
     "data": {
      "text/plain": [
       "numpy.ndarray"
      ]
     },
     "execution_count": 8,
     "metadata": {},
     "output_type": "execute_result"
    }
   ],
   "source": [
    "type(percentage.values)"
   ]
  },
  {
   "cell_type": "code",
   "execution_count": 9,
   "id": "73ac550b-30fc-47b3-8caf-faa7b1e7f26c",
   "metadata": {},
   "outputs": [
    {
     "data": {
      "text/plain": [
       "RangeIndex(start=0, stop=5, step=1)"
      ]
     },
     "execution_count": 9,
     "metadata": {},
     "output_type": "execute_result"
    }
   ],
   "source": [
    "percentage.index"
   ]
  },
  {
   "cell_type": "code",
   "execution_count": 11,
   "id": "030f780a-9488-4d2b-99d7-1e5660e7e0c2",
   "metadata": {},
   "outputs": [],
   "source": [
    "percentage.index = [\n",
    "    'first',\n",
    "    'second',\n",
    "    'third',\n",
    "    'fourth',\n",
    "    'fifth',\n",
    "]"
   ]
  },
  {
   "cell_type": "code",
   "execution_count": 12,
   "id": "53a27d0d-1334-491d-bc23-d162c9b65df1",
   "metadata": {},
   "outputs": [
    {
     "data": {
      "text/plain": [
       "first     78.5\n",
       "second    79.2\n",
       "third     76.8\n",
       "fourth    73.1\n",
       "fifth     79.5\n",
       "Name: Percentage in five semesters, dtype: float64"
      ]
     },
     "execution_count": 12,
     "metadata": {},
     "output_type": "execute_result"
    }
   ],
   "source": [
    "percentage"
   ]
  },
  {
   "cell_type": "code",
   "execution_count": 14,
   "id": "c1970867-5f44-46a5-8c30-45ce7f847b1f",
   "metadata": {},
   "outputs": [
    {
     "data": {
      "text/plain": [
       "78.5"
      ]
     },
     "execution_count": 14,
     "metadata": {},
     "output_type": "execute_result"
    }
   ],
   "source": [
    "percentage['first']"
   ]
  },
  {
   "cell_type": "code",
   "execution_count": 15,
   "id": "4a918b67-5cf6-4797-956c-ab02ff22496e",
   "metadata": {},
   "outputs": [
    {
     "data": {
      "text/plain": [
       "76.8"
      ]
     },
     "execution_count": 15,
     "metadata": {},
     "output_type": "execute_result"
    }
   ],
   "source": [
    "percentage['third']"
   ]
  },
  {
   "cell_type": "code",
   "execution_count": 16,
   "id": "1397fefe-2819-4a4c-8f36-0462db8ea5ac",
   "metadata": {},
   "outputs": [
    {
     "data": {
      "text/plain": [
       "78.5"
      ]
     },
     "execution_count": 16,
     "metadata": {},
     "output_type": "execute_result"
    }
   ],
   "source": [
    "percentage.iloc[0]"
   ]
  },
  {
   "cell_type": "code",
   "execution_count": 18,
   "id": "59bc7508-1478-4ab2-aa59-66b373e07195",
   "metadata": {},
   "outputs": [
    {
     "data": {
      "text/plain": [
       "first    78.5\n",
       "third    76.8\n",
       "fifth    79.5\n",
       "Name: Percentage in five semesters, dtype: float64"
      ]
     },
     "execution_count": 18,
     "metadata": {},
     "output_type": "execute_result"
    }
   ],
   "source": [
    "percentage.iloc[[0, 2, 4]]"
   ]
  },
  {
   "cell_type": "code",
   "execution_count": 19,
   "id": "1a0469e0-179a-47aa-9eb6-11b995e4f476",
   "metadata": {},
   "outputs": [
    {
     "data": {
      "text/plain": [
       "first    78.5\n",
       "third    76.8\n",
       "fifth    79.5\n",
       "Name: Percentage in five semesters, dtype: float64"
      ]
     },
     "execution_count": 19,
     "metadata": {},
     "output_type": "execute_result"
    }
   ],
   "source": [
    "percentage[['first', 'third', 'fifth']]"
   ]
  },
  {
   "cell_type": "markdown",
   "id": "b161edd7-8502-429e-9a9c-ab78aad41d7a",
   "metadata": {},
   "source": [
    "# Conditional Selection"
   ]
  },
  {
   "cell_type": "code",
   "execution_count": 20,
   "id": "1a805bd7-0536-4814-83b7-0500c9b0877a",
   "metadata": {},
   "outputs": [
    {
     "data": {
      "text/plain": [
       "first     78.5\n",
       "second    79.2\n",
       "third     76.8\n",
       "fourth    73.1\n",
       "fifth     79.5\n",
       "Name: Percentage in five semesters, dtype: float64"
      ]
     },
     "execution_count": 20,
     "metadata": {},
     "output_type": "execute_result"
    }
   ],
   "source": [
    "percentage"
   ]
  },
  {
   "cell_type": "code",
   "execution_count": 21,
   "id": "13c65e37-b995-42d2-8cf4-8ca33c61c3b9",
   "metadata": {},
   "outputs": [
    {
     "data": {
      "text/plain": [
       "first      True\n",
       "second     True\n",
       "third      True\n",
       "fourth    False\n",
       "fifth      True\n",
       "Name: Percentage in five semesters, dtype: bool"
      ]
     },
     "execution_count": 21,
     "metadata": {},
     "output_type": "execute_result"
    }
   ],
   "source": [
    "percentage > 75"
   ]
  },
  {
   "cell_type": "code",
   "execution_count": 22,
   "id": "118d82b5-0901-4f37-8717-4e8f60313952",
   "metadata": {},
   "outputs": [
    {
     "data": {
      "text/plain": [
       "first     78.5\n",
       "second    79.2\n",
       "fifth     79.5\n",
       "Name: Percentage in five semesters, dtype: float64"
      ]
     },
     "execution_count": 22,
     "metadata": {},
     "output_type": "execute_result"
    }
   ],
   "source": [
    "percentage[percentage > percentage.mean()]"
   ]
  },
  {
   "cell_type": "code",
   "execution_count": 10,
   "id": "9d7f3b50-1f4a-4c1d-9a39-c430b9cb08f5",
   "metadata": {},
   "outputs": [
    {
     "data": {
      "text/plain": [
       "77.42"
      ]
     },
     "execution_count": 10,
     "metadata": {},
     "output_type": "execute_result"
    }
   ],
   "source": [
    "percentage.mean()"
   ]
  },
  {
   "cell_type": "code",
   "execution_count": 23,
   "id": "d582ecc1-4ea5-4c32-b173-d8d1f99e15f7",
   "metadata": {},
   "outputs": [
    {
     "data": {
      "text/plain": [
       "first      True\n",
       "second     True\n",
       "third     False\n",
       "fourth    False\n",
       "fifth      True\n",
       "Name: Percentage in five semesters, dtype: bool"
      ]
     },
     "execution_count": 23,
     "metadata": {},
     "output_type": "execute_result"
    }
   ],
   "source": [
    "percentage > percentage.mean()"
   ]
  },
  {
   "cell_type": "code",
   "execution_count": 24,
   "id": "be1a2340-e74c-4772-89a7-b018ee13f758",
   "metadata": {},
   "outputs": [
    {
     "data": {
      "text/plain": [
       "2.6319194516550115"
      ]
     },
     "execution_count": 24,
     "metadata": {},
     "output_type": "execute_result"
    }
   ],
   "source": [
    "percentage.std()"
   ]
  },
  {
   "cell_type": "code",
   "execution_count": 25,
   "id": "ece62c24-58b3-4717-b244-d1926c27a26c",
   "metadata": {},
   "outputs": [
    {
     "data": {
      "text/plain": [
       "6.927000000000016"
      ]
     },
     "execution_count": 25,
     "metadata": {},
     "output_type": "execute_result"
    }
   ],
   "source": [
    "percentage.var()"
   ]
  },
  {
   "cell_type": "code",
   "execution_count": 28,
   "id": "1649c73c-4b86-45a9-a386-1c305512d5cd",
   "metadata": {},
   "outputs": [
    {
     "data": {
      "text/plain": [
       "first     4.363099\n",
       "second    4.371976\n",
       "third     4.341205\n",
       "fourth    4.291828\n",
       "fifth     4.375757\n",
       "Name: Percentage in five semesters, dtype: float64"
      ]
     },
     "execution_count": 28,
     "metadata": {},
     "output_type": "execute_result"
    }
   ],
   "source": [
    "np.log(percentage)"
   ]
  },
  {
   "cell_type": "code",
   "execution_count": 30,
   "id": "93df36c6-4b2b-4b41-92ed-95d0728a29bf",
   "metadata": {},
   "outputs": [
    {
     "data": {
      "text/plain": [
       "first     78.5\n",
       "second    79.2\n",
       "third     76.8\n",
       "fourth    73.1\n",
       "fifth     79.5\n",
       "Name: Percentage in five semesters, dtype: float64"
      ]
     },
     "execution_count": 30,
     "metadata": {},
     "output_type": "execute_result"
    }
   ],
   "source": [
    "percentage"
   ]
  },
  {
   "cell_type": "code",
   "execution_count": 31,
   "id": "a1c0b250-a75d-4ab2-a245-69523ed06342",
   "metadata": {},
   "outputs": [],
   "source": [
    "percentage['fifth'] = 79.9"
   ]
  },
  {
   "cell_type": "code",
   "execution_count": 32,
   "id": "aa3bdbed-fdcb-4795-9d80-ce81fd439160",
   "metadata": {},
   "outputs": [
    {
     "data": {
      "text/plain": [
       "first     78.5\n",
       "second    79.2\n",
       "third     76.8\n",
       "fourth    73.1\n",
       "fifth     79.9\n",
       "Name: Percentage in five semesters, dtype: float64"
      ]
     },
     "execution_count": 32,
     "metadata": {},
     "output_type": "execute_result"
    }
   ],
   "source": [
    "percentage"
   ]
  },
  {
   "cell_type": "code",
   "execution_count": 33,
   "id": "56e53648-cf7c-4c78-827d-b178b1b508a8",
   "metadata": {},
   "outputs": [],
   "source": [
    "percentage['sixth'] = 78.5"
   ]
  },
  {
   "cell_type": "code",
   "execution_count": 34,
   "id": "d60fc685-28ac-4369-a143-0ea6ca83289f",
   "metadata": {},
   "outputs": [
    {
     "data": {
      "text/plain": [
       "first     78.5\n",
       "second    79.2\n",
       "third     76.8\n",
       "fourth    73.1\n",
       "fifth     79.9\n",
       "sixth     78.5\n",
       "Name: Percentage in five semesters, dtype: float64"
      ]
     },
     "execution_count": 34,
     "metadata": {},
     "output_type": "execute_result"
    }
   ],
   "source": [
    "percentage"
   ]
  }
 ],
 "metadata": {
  "kernelspec": {
   "display_name": "Python 3 (ipykernel)",
   "language": "python",
   "name": "python3"
  },
  "language_info": {
   "codemirror_mode": {
    "name": "ipython",
    "version": 3
   },
   "file_extension": ".py",
   "mimetype": "text/x-python",
   "name": "python",
   "nbconvert_exporter": "python",
   "pygments_lexer": "ipython3",
   "version": "3.11.4"
  }
 },
 "nbformat": 4,
 "nbformat_minor": 5
}
